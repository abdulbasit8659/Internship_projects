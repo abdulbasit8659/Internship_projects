{
 "cells": [
  {
   "cell_type": "code",
   "execution_count": 1,
   "id": "6ab1bc29",
   "metadata": {},
   "outputs": [],
   "source": [
    "import pandas as pd"
   ]
  },
  {
   "cell_type": "code",
   "execution_count": 2,
   "id": "1f983966",
   "metadata": {},
   "outputs": [],
   "source": [
    "data_set = pd.read_csv(\"F:\\Data Analyst Roadmap\\Inrenship\\Intermediate Colleges of Pakistan EDA\\All the Intermediate Colleges in Pakistan.csv\")"
   ]
  },
  {
   "cell_type": "code",
   "execution_count": 3,
   "id": "9413b4cd",
   "metadata": {},
   "outputs": [
    {
     "data": {
      "text/html": [
       "<div>\n",
       "<style scoped>\n",
       "    .dataframe tbody tr th:only-of-type {\n",
       "        vertical-align: middle;\n",
       "    }\n",
       "\n",
       "    .dataframe tbody tr th {\n",
       "        vertical-align: top;\n",
       "    }\n",
       "\n",
       "    .dataframe thead th {\n",
       "        text-align: right;\n",
       "    }\n",
       "</style>\n",
       "<table border=\"1\" class=\"dataframe\">\n",
       "  <thead>\n",
       "    <tr style=\"text-align: right;\">\n",
       "      <th></th>\n",
       "      <th>Name</th>\n",
       "      <th>Location</th>\n",
       "      <th>Study Program</th>\n",
       "      <th>Sector</th>\n",
       "      <th>Affiliation</th>\n",
       "      <th>Rating</th>\n",
       "    </tr>\n",
       "  </thead>\n",
       "  <tbody>\n",
       "    <tr>\n",
       "      <th>0</th>\n",
       "      <td>Campus.pk Lahore</td>\n",
       "      <td>Office 206, 2nd Floor Siddique Trade Center Ma...</td>\n",
       "      <td>FSc Pre Engineering Fsc Pre Medical</td>\n",
       "      <td>Private</td>\n",
       "      <td>ads</td>\n",
       "      <td>0*</td>\n",
       "    </tr>\n",
       "    <tr>\n",
       "      <th>1</th>\n",
       "      <td>Allama Iqbal Open University Aiou Islamabad</td>\n",
       "      <td>Sector H-8, Islamabad-44000</td>\n",
       "      <td>FSc Pre Engineering ICs Computer Science FSc P...</td>\n",
       "      <td>Public</td>\n",
       "      <td>NaN</td>\n",
       "      <td>5*</td>\n",
       "    </tr>\n",
       "    <tr>\n",
       "      <th>2</th>\n",
       "      <td>Government College University Gcu Lahore</td>\n",
       "      <td>GC University, Katchery Road Lahore 54000</td>\n",
       "      <td>FSc Pre Engineering ICS Computer Science FSc P...</td>\n",
       "      <td>Public</td>\n",
       "      <td>HEC</td>\n",
       "      <td>4*</td>\n",
       "    </tr>\n",
       "    <tr>\n",
       "      <th>3</th>\n",
       "      <td>Govt College University GCU Faisalabad</td>\n",
       "      <td>Kotwali Rd, Faisalabad 38000</td>\n",
       "      <td>FSc Pre-Engineering ICS FSc Pre-Medical Icom F...</td>\n",
       "      <td>Public</td>\n",
       "      <td>HEC</td>\n",
       "      <td>3*</td>\n",
       "    </tr>\n",
       "    <tr>\n",
       "      <th>4</th>\n",
       "      <td>Lahore College For Women University (Lcwu) Lahore</td>\n",
       "      <td>Near Wapda Flats, Jail Road, Lahore</td>\n",
       "      <td>FA Arts FSc Pre Engineering ICS Physics ICS St...</td>\n",
       "      <td>Public</td>\n",
       "      <td>NaN</td>\n",
       "      <td>5*</td>\n",
       "    </tr>\n",
       "  </tbody>\n",
       "</table>\n",
       "</div>"
      ],
      "text/plain": [
       "                                                Name  \\\n",
       "0                                   Campus.pk Lahore   \n",
       "1        Allama Iqbal Open University Aiou Islamabad   \n",
       "2           Government College University Gcu Lahore   \n",
       "3             Govt College University GCU Faisalabad   \n",
       "4  Lahore College For Women University (Lcwu) Lahore   \n",
       "\n",
       "                                            Location  \\\n",
       "0  Office 206, 2nd Floor Siddique Trade Center Ma...   \n",
       "1                        Sector H-8, Islamabad-44000   \n",
       "2          GC University, Katchery Road Lahore 54000   \n",
       "3                       Kotwali Rd, Faisalabad 38000   \n",
       "4                Near Wapda Flats, Jail Road, Lahore   \n",
       "\n",
       "                                       Study Program   Sector Affiliation  \\\n",
       "0                FSc Pre Engineering Fsc Pre Medical  Private         ads   \n",
       "1  FSc Pre Engineering ICs Computer Science FSc P...   Public         NaN   \n",
       "2  FSc Pre Engineering ICS Computer Science FSc P...   Public         HEC   \n",
       "3  FSc Pre-Engineering ICS FSc Pre-Medical Icom F...   Public         HEC   \n",
       "4  FA Arts FSc Pre Engineering ICS Physics ICS St...   Public         NaN   \n",
       "\n",
       "  Rating  \n",
       "0     0*  \n",
       "1     5*  \n",
       "2     4*  \n",
       "3     3*  \n",
       "4     5*  "
      ]
     },
     "execution_count": 3,
     "metadata": {},
     "output_type": "execute_result"
    }
   ],
   "source": [
    "data_set.head()"
   ]
  },
  {
   "cell_type": "markdown",
   "id": "b28a2cd4",
   "metadata": {},
   "source": [
    "# Check for the missing values"
   ]
  },
  {
   "cell_type": "code",
   "execution_count": 4,
   "id": "63bbff89",
   "metadata": {},
   "outputs": [
    {
     "name": "stdout",
     "output_type": "stream",
     "text": [
      "Name                0\n",
      "Location            4\n",
      "Study Program       0\n",
      "Sector            529\n",
      "Affiliation      1475\n",
      "Rating              0\n",
      "dtype: int64\n"
     ]
    }
   ],
   "source": [
    "missing_values = data_set.isnull().sum()\n",
    "print(missing_values)"
   ]
  },
  {
   "cell_type": "markdown",
   "id": "e7c74e71",
   "metadata": {},
   "source": [
    "# Drop colum if missing value is 50% OR greater than 50%"
   ]
  },
  {
   "cell_type": "markdown",
   "id": "9ae3e1a4",
   "metadata": {},
   "source": [
    "Affiliation have 90% missing values so will have to drop this colum."
   ]
  },
  {
   "cell_type": "code",
   "execution_count": 5,
   "id": "85d42e00",
   "metadata": {},
   "outputs": [],
   "source": [
    "data_set.drop(columns=['Affiliation'], inplace=True)"
   ]
  },
  {
   "cell_type": "code",
   "execution_count": 6,
   "id": "cf4bba08",
   "metadata": {},
   "outputs": [
    {
     "data": {
      "text/html": [
       "<div>\n",
       "<style scoped>\n",
       "    .dataframe tbody tr th:only-of-type {\n",
       "        vertical-align: middle;\n",
       "    }\n",
       "\n",
       "    .dataframe tbody tr th {\n",
       "        vertical-align: top;\n",
       "    }\n",
       "\n",
       "    .dataframe thead th {\n",
       "        text-align: right;\n",
       "    }\n",
       "</style>\n",
       "<table border=\"1\" class=\"dataframe\">\n",
       "  <thead>\n",
       "    <tr style=\"text-align: right;\">\n",
       "      <th></th>\n",
       "      <th>Name</th>\n",
       "      <th>Location</th>\n",
       "      <th>Study Program</th>\n",
       "      <th>Sector</th>\n",
       "      <th>Rating</th>\n",
       "    </tr>\n",
       "  </thead>\n",
       "  <tbody>\n",
       "    <tr>\n",
       "      <th>0</th>\n",
       "      <td>Campus.pk Lahore</td>\n",
       "      <td>Office 206, 2nd Floor Siddique Trade Center Ma...</td>\n",
       "      <td>FSc Pre Engineering Fsc Pre Medical</td>\n",
       "      <td>Private</td>\n",
       "      <td>0*</td>\n",
       "    </tr>\n",
       "    <tr>\n",
       "      <th>1</th>\n",
       "      <td>Allama Iqbal Open University Aiou Islamabad</td>\n",
       "      <td>Sector H-8, Islamabad-44000</td>\n",
       "      <td>FSc Pre Engineering ICs Computer Science FSc P...</td>\n",
       "      <td>Public</td>\n",
       "      <td>5*</td>\n",
       "    </tr>\n",
       "    <tr>\n",
       "      <th>2</th>\n",
       "      <td>Government College University Gcu Lahore</td>\n",
       "      <td>GC University, Katchery Road Lahore 54000</td>\n",
       "      <td>FSc Pre Engineering ICS Computer Science FSc P...</td>\n",
       "      <td>Public</td>\n",
       "      <td>4*</td>\n",
       "    </tr>\n",
       "    <tr>\n",
       "      <th>3</th>\n",
       "      <td>Govt College University GCU Faisalabad</td>\n",
       "      <td>Kotwali Rd, Faisalabad 38000</td>\n",
       "      <td>FSc Pre-Engineering ICS FSc Pre-Medical Icom F...</td>\n",
       "      <td>Public</td>\n",
       "      <td>3*</td>\n",
       "    </tr>\n",
       "    <tr>\n",
       "      <th>4</th>\n",
       "      <td>Lahore College For Women University (Lcwu) Lahore</td>\n",
       "      <td>Near Wapda Flats, Jail Road, Lahore</td>\n",
       "      <td>FA Arts FSc Pre Engineering ICS Physics ICS St...</td>\n",
       "      <td>Public</td>\n",
       "      <td>5*</td>\n",
       "    </tr>\n",
       "  </tbody>\n",
       "</table>\n",
       "</div>"
      ],
      "text/plain": [
       "                                                Name  \\\n",
       "0                                   Campus.pk Lahore   \n",
       "1        Allama Iqbal Open University Aiou Islamabad   \n",
       "2           Government College University Gcu Lahore   \n",
       "3             Govt College University GCU Faisalabad   \n",
       "4  Lahore College For Women University (Lcwu) Lahore   \n",
       "\n",
       "                                            Location  \\\n",
       "0  Office 206, 2nd Floor Siddique Trade Center Ma...   \n",
       "1                        Sector H-8, Islamabad-44000   \n",
       "2          GC University, Katchery Road Lahore 54000   \n",
       "3                       Kotwali Rd, Faisalabad 38000   \n",
       "4                Near Wapda Flats, Jail Road, Lahore   \n",
       "\n",
       "                                       Study Program   Sector Rating  \n",
       "0                FSc Pre Engineering Fsc Pre Medical  Private     0*  \n",
       "1  FSc Pre Engineering ICs Computer Science FSc P...   Public     5*  \n",
       "2  FSc Pre Engineering ICS Computer Science FSc P...   Public     4*  \n",
       "3  FSc Pre-Engineering ICS FSc Pre-Medical Icom F...   Public     3*  \n",
       "4  FA Arts FSc Pre Engineering ICS Physics ICS St...   Public     5*  "
      ]
     },
     "execution_count": 6,
     "metadata": {},
     "output_type": "execute_result"
    }
   ],
   "source": [
    "data_set.head()"
   ]
  },
  {
   "cell_type": "code",
   "execution_count": 7,
   "id": "42b84fe8",
   "metadata": {},
   "outputs": [],
   "source": [
    "#use mode() to add missing values in location colum\n",
    "data_set['Location'].fillna(data_set['Location'].mode()[0], inplace=True) "
   ]
  },
  {
   "cell_type": "code",
   "execution_count": 8,
   "id": "49c8a0a7",
   "metadata": {},
   "outputs": [],
   "source": [
    "#use mode() to add missing values in Sector column as well.\n",
    "data_set['Sector'].fillna(data_set['Sector'].mode()[0], inplace=True)"
   ]
  },
  {
   "cell_type": "code",
   "execution_count": 9,
   "id": "b452307b",
   "metadata": {},
   "outputs": [
    {
     "name": "stdout",
     "output_type": "stream",
     "text": [
      "Name             0\n",
      "Location         0\n",
      "Study Program    0\n",
      "Sector           0\n",
      "Rating           0\n",
      "dtype: int64\n"
     ]
    }
   ],
   "source": [
    "print(data_set.isnull().sum())"
   ]
  },
  {
   "cell_type": "markdown",
   "id": "68657df9",
   "metadata": {},
   "source": [
    "# Correct Inconsistencies (if required)"
   ]
  },
  {
   "cell_type": "code",
   "execution_count": 10,
   "id": "82a0c7ea",
   "metadata": {},
   "outputs": [
    {
     "name": "stdout",
     "output_type": "stream",
     "text": [
      "['Office 206, 2nd Floor Siddique Trade Center Main Boulevard Gulberg III Lahore '\n",
      " 'Sector H-8, Islamabad-44000' 'GC University, Katchery Road Lahore 54000'\n",
      " ... 'Riphah International College Swat'\n",
      " 'Riphah International College Dina' 'Riphah International College Dargai']\n"
     ]
    }
   ],
   "source": [
    "print(data_set['Location'].unique())"
   ]
  },
  {
   "cell_type": "markdown",
   "id": "e7d7bd95",
   "metadata": {},
   "source": [
    "extract city from location column"
   ]
  },
  {
   "cell_type": "code",
   "execution_count": 11,
   "id": "0dabf8a2",
   "metadata": {},
   "outputs": [],
   "source": [
    "import re\n",
    "\n",
    "def extract_city(location):\n",
    "\n",
    "    cities = {\n",
    "        'Lahore': r'Lahore',\n",
    "        'Islamabad': r'Islamabad',\n",
    "        'Karachi': r'Karachi',\n",
    "        'Swat': r'Swat',\n",
    "        'Dina': r'Dina',\n",
    "        'Dargai': r'Dargai',\n",
    "      \n",
    "    }\n",
    "\n",
    "    for city, pattern in cities.items():\n",
    "        if re.search(pattern, location, re.IGNORECASE):\n",
    "            return city\n",
    "    return 'Unknown' #for just default/Unknown values\n",
    "\n",
    "\n",
    "data_set['City'] = data_set['Location'].apply(extract_city)"
   ]
  },
  {
   "cell_type": "code",
   "execution_count": 12,
   "id": "89358713",
   "metadata": {},
   "outputs": [
    {
     "name": "stdout",
     "output_type": "stream",
     "text": [
      "['Lahore' 'Islamabad' 'Unknown' 'Karachi' 'Dina' 'Swat' 'Dargai']\n"
     ]
    }
   ],
   "source": [
    "print(data_set['City'].unique())"
   ]
  },
  {
   "cell_type": "code",
   "execution_count": 13,
   "id": "e48817a9",
   "metadata": {},
   "outputs": [
    {
     "data": {
      "text/html": [
       "<div>\n",
       "<style scoped>\n",
       "    .dataframe tbody tr th:only-of-type {\n",
       "        vertical-align: middle;\n",
       "    }\n",
       "\n",
       "    .dataframe tbody tr th {\n",
       "        vertical-align: top;\n",
       "    }\n",
       "\n",
       "    .dataframe thead th {\n",
       "        text-align: right;\n",
       "    }\n",
       "</style>\n",
       "<table border=\"1\" class=\"dataframe\">\n",
       "  <thead>\n",
       "    <tr style=\"text-align: right;\">\n",
       "      <th></th>\n",
       "      <th>Name</th>\n",
       "      <th>Location</th>\n",
       "      <th>Study Program</th>\n",
       "      <th>Sector</th>\n",
       "      <th>Rating</th>\n",
       "      <th>City</th>\n",
       "    </tr>\n",
       "  </thead>\n",
       "  <tbody>\n",
       "    <tr>\n",
       "      <th>0</th>\n",
       "      <td>Campus.pk Lahore</td>\n",
       "      <td>Office 206, 2nd Floor Siddique Trade Center Ma...</td>\n",
       "      <td>FSc Pre Engineering Fsc Pre Medical</td>\n",
       "      <td>Private</td>\n",
       "      <td>0*</td>\n",
       "      <td>Lahore</td>\n",
       "    </tr>\n",
       "    <tr>\n",
       "      <th>1</th>\n",
       "      <td>Allama Iqbal Open University Aiou Islamabad</td>\n",
       "      <td>Sector H-8, Islamabad-44000</td>\n",
       "      <td>FSc Pre Engineering ICs Computer Science FSc P...</td>\n",
       "      <td>Public</td>\n",
       "      <td>5*</td>\n",
       "      <td>Islamabad</td>\n",
       "    </tr>\n",
       "    <tr>\n",
       "      <th>2</th>\n",
       "      <td>Government College University Gcu Lahore</td>\n",
       "      <td>GC University, Katchery Road Lahore 54000</td>\n",
       "      <td>FSc Pre Engineering ICS Computer Science FSc P...</td>\n",
       "      <td>Public</td>\n",
       "      <td>4*</td>\n",
       "      <td>Lahore</td>\n",
       "    </tr>\n",
       "    <tr>\n",
       "      <th>3</th>\n",
       "      <td>Govt College University GCU Faisalabad</td>\n",
       "      <td>Kotwali Rd, Faisalabad 38000</td>\n",
       "      <td>FSc Pre-Engineering ICS FSc Pre-Medical Icom F...</td>\n",
       "      <td>Public</td>\n",
       "      <td>3*</td>\n",
       "      <td>Unknown</td>\n",
       "    </tr>\n",
       "    <tr>\n",
       "      <th>4</th>\n",
       "      <td>Lahore College For Women University (Lcwu) Lahore</td>\n",
       "      <td>Near Wapda Flats, Jail Road, Lahore</td>\n",
       "      <td>FA Arts FSc Pre Engineering ICS Physics ICS St...</td>\n",
       "      <td>Public</td>\n",
       "      <td>5*</td>\n",
       "      <td>Lahore</td>\n",
       "    </tr>\n",
       "  </tbody>\n",
       "</table>\n",
       "</div>"
      ],
      "text/plain": [
       "                                                Name  \\\n",
       "0                                   Campus.pk Lahore   \n",
       "1        Allama Iqbal Open University Aiou Islamabad   \n",
       "2           Government College University Gcu Lahore   \n",
       "3             Govt College University GCU Faisalabad   \n",
       "4  Lahore College For Women University (Lcwu) Lahore   \n",
       "\n",
       "                                            Location  \\\n",
       "0  Office 206, 2nd Floor Siddique Trade Center Ma...   \n",
       "1                        Sector H-8, Islamabad-44000   \n",
       "2          GC University, Katchery Road Lahore 54000   \n",
       "3                       Kotwali Rd, Faisalabad 38000   \n",
       "4                Near Wapda Flats, Jail Road, Lahore   \n",
       "\n",
       "                                       Study Program   Sector Rating  \\\n",
       "0                FSc Pre Engineering Fsc Pre Medical  Private     0*   \n",
       "1  FSc Pre Engineering ICs Computer Science FSc P...   Public     5*   \n",
       "2  FSc Pre Engineering ICS Computer Science FSc P...   Public     4*   \n",
       "3  FSc Pre-Engineering ICS FSc Pre-Medical Icom F...   Public     3*   \n",
       "4  FA Arts FSc Pre Engineering ICS Physics ICS St...   Public     5*   \n",
       "\n",
       "        City  \n",
       "0     Lahore  \n",
       "1  Islamabad  \n",
       "2     Lahore  \n",
       "3    Unknown  \n",
       "4     Lahore  "
      ]
     },
     "execution_count": 13,
     "metadata": {},
     "output_type": "execute_result"
    }
   ],
   "source": [
    "data_set.head()"
   ]
  },
  {
   "cell_type": "code",
   "execution_count": 14,
   "id": "41a86898",
   "metadata": {},
   "outputs": [
    {
     "name": "stdout",
     "output_type": "stream",
     "text": [
      "count     1630\n",
      "unique      21\n",
      "top         0*\n",
      "freq      1119\n",
      "Name: Rating, dtype: object\n"
     ]
    }
   ],
   "source": [
    "print(data_set['Rating'].describe())"
   ]
  },
  {
   "cell_type": "markdown",
   "id": "4949acb6",
   "metadata": {},
   "source": [
    "Remove non-numeric characters like '*' and convert to numeric (Rating Column)"
   ]
  },
  {
   "cell_type": "code",
   "execution_count": 15,
   "id": "6850b228",
   "metadata": {},
   "outputs": [],
   "source": [
    "data_set['Rating'] = data_set['Rating'].str.replace('*', '', regex=False).astype(float)"
   ]
  },
  {
   "cell_type": "code",
   "execution_count": 16,
   "id": "66a862b8",
   "metadata": {},
   "outputs": [],
   "source": [
    "data_set['Rating'] = pd.to_numeric(data_set['Rating'], errors='coerce')"
   ]
  },
  {
   "cell_type": "code",
   "execution_count": 17,
   "id": "0a1f3859",
   "metadata": {},
   "outputs": [
    {
     "name": "stdout",
     "output_type": "stream",
     "text": [
      "count    1630.000000\n",
      "mean        1.118865\n",
      "std         1.825516\n",
      "min         0.000000\n",
      "25%         0.000000\n",
      "50%         0.000000\n",
      "75%         2.000000\n",
      "max         5.000000\n",
      "Name: Rating, dtype: float64\n"
     ]
    }
   ],
   "source": [
    "print(data_set['Rating'].describe())"
   ]
  },
  {
   "cell_type": "code",
   "execution_count": 18,
   "id": "1cc18506",
   "metadata": {},
   "outputs": [
    {
     "data": {
      "text/html": [
       "<div>\n",
       "<style scoped>\n",
       "    .dataframe tbody tr th:only-of-type {\n",
       "        vertical-align: middle;\n",
       "    }\n",
       "\n",
       "    .dataframe tbody tr th {\n",
       "        vertical-align: top;\n",
       "    }\n",
       "\n",
       "    .dataframe thead th {\n",
       "        text-align: right;\n",
       "    }\n",
       "</style>\n",
       "<table border=\"1\" class=\"dataframe\">\n",
       "  <thead>\n",
       "    <tr style=\"text-align: right;\">\n",
       "      <th></th>\n",
       "      <th>Name</th>\n",
       "      <th>Location</th>\n",
       "      <th>Study Program</th>\n",
       "      <th>Sector</th>\n",
       "      <th>Rating</th>\n",
       "      <th>City</th>\n",
       "    </tr>\n",
       "  </thead>\n",
       "  <tbody>\n",
       "    <tr>\n",
       "      <th>0</th>\n",
       "      <td>Campus.pk Lahore</td>\n",
       "      <td>Office 206, 2nd Floor Siddique Trade Center Ma...</td>\n",
       "      <td>FSc Pre Engineering Fsc Pre Medical</td>\n",
       "      <td>Private</td>\n",
       "      <td>0.0</td>\n",
       "      <td>Lahore</td>\n",
       "    </tr>\n",
       "    <tr>\n",
       "      <th>1</th>\n",
       "      <td>Allama Iqbal Open University Aiou Islamabad</td>\n",
       "      <td>Sector H-8, Islamabad-44000</td>\n",
       "      <td>FSc Pre Engineering ICs Computer Science FSc P...</td>\n",
       "      <td>Public</td>\n",
       "      <td>5.0</td>\n",
       "      <td>Islamabad</td>\n",
       "    </tr>\n",
       "    <tr>\n",
       "      <th>2</th>\n",
       "      <td>Government College University Gcu Lahore</td>\n",
       "      <td>GC University, Katchery Road Lahore 54000</td>\n",
       "      <td>FSc Pre Engineering ICS Computer Science FSc P...</td>\n",
       "      <td>Public</td>\n",
       "      <td>4.0</td>\n",
       "      <td>Lahore</td>\n",
       "    </tr>\n",
       "    <tr>\n",
       "      <th>3</th>\n",
       "      <td>Govt College University GCU Faisalabad</td>\n",
       "      <td>Kotwali Rd, Faisalabad 38000</td>\n",
       "      <td>FSc Pre-Engineering ICS FSc Pre-Medical Icom F...</td>\n",
       "      <td>Public</td>\n",
       "      <td>3.0</td>\n",
       "      <td>Unknown</td>\n",
       "    </tr>\n",
       "    <tr>\n",
       "      <th>4</th>\n",
       "      <td>Lahore College For Women University (Lcwu) Lahore</td>\n",
       "      <td>Near Wapda Flats, Jail Road, Lahore</td>\n",
       "      <td>FA Arts FSc Pre Engineering ICS Physics ICS St...</td>\n",
       "      <td>Public</td>\n",
       "      <td>5.0</td>\n",
       "      <td>Lahore</td>\n",
       "    </tr>\n",
       "  </tbody>\n",
       "</table>\n",
       "</div>"
      ],
      "text/plain": [
       "                                                Name  \\\n",
       "0                                   Campus.pk Lahore   \n",
       "1        Allama Iqbal Open University Aiou Islamabad   \n",
       "2           Government College University Gcu Lahore   \n",
       "3             Govt College University GCU Faisalabad   \n",
       "4  Lahore College For Women University (Lcwu) Lahore   \n",
       "\n",
       "                                            Location  \\\n",
       "0  Office 206, 2nd Floor Siddique Trade Center Ma...   \n",
       "1                        Sector H-8, Islamabad-44000   \n",
       "2          GC University, Katchery Road Lahore 54000   \n",
       "3                       Kotwali Rd, Faisalabad 38000   \n",
       "4                Near Wapda Flats, Jail Road, Lahore   \n",
       "\n",
       "                                       Study Program   Sector  Rating  \\\n",
       "0                FSc Pre Engineering Fsc Pre Medical  Private     0.0   \n",
       "1  FSc Pre Engineering ICs Computer Science FSc P...   Public     5.0   \n",
       "2  FSc Pre Engineering ICS Computer Science FSc P...   Public     4.0   \n",
       "3  FSc Pre-Engineering ICS FSc Pre-Medical Icom F...   Public     3.0   \n",
       "4  FA Arts FSc Pre Engineering ICS Physics ICS St...   Public     5.0   \n",
       "\n",
       "        City  \n",
       "0     Lahore  \n",
       "1  Islamabad  \n",
       "2     Lahore  \n",
       "3    Unknown  \n",
       "4     Lahore  "
      ]
     },
     "execution_count": 18,
     "metadata": {},
     "output_type": "execute_result"
    }
   ],
   "source": [
    "data_set.head()"
   ]
  },
  {
   "cell_type": "markdown",
   "id": "18a0b2a0",
   "metadata": {},
   "source": [
    "# In-depth Exploratory Data Analysis (EDA)"
   ]
  },
  {
   "cell_type": "markdown",
   "id": "180392ef",
   "metadata": {},
   "source": [
    "# Analyze Ratings Across Regions For Academic Results Analysis"
   ]
  },
  {
   "cell_type": "code",
   "execution_count": 19,
   "id": "3489f93a",
   "metadata": {},
   "outputs": [
    {
     "name": "stdout",
     "output_type": "stream",
     "text": [
      "City\n",
      "Swat         2.350000\n",
      "Lahore       1.536036\n",
      "Karachi      1.219907\n",
      "Unknown      1.065039\n",
      "Islamabad    0.811475\n",
      "Dina         0.545455\n",
      "Dargai       0.400000\n",
      "Name: Rating, dtype: float64\n"
     ]
    }
   ],
   "source": [
    "city_performance = data_set.groupby('City')['Rating'].mean().sort_values(ascending=False)\n",
    "print(city_performance)"
   ]
  },
  {
   "cell_type": "code",
   "execution_count": 20,
   "id": "08530c57",
   "metadata": {},
   "outputs": [],
   "source": [
    "import matplotlib.pyplot as plt"
   ]
  },
  {
   "cell_type": "code",
   "execution_count": 21,
   "id": "a38e1e8e",
   "metadata": {},
   "outputs": [
    {
     "data": {
      "image/png": "[encoded data removed]",
      "text/plain": [
       "<Figure size 640x480 with 1 Axes>"
      ]
     },
     "metadata": {},
     "output_type": "display_data"
    }
   ],
   "source": [
    "city_performance.plot(kind='bar', title='Average Rating by City')\n",
    "plt.ylabel('Average Rating')\n",
    "plt.show()"
   ]
  },
  {
   "cell_type": "markdown",
   "id": "34c3695a",
   "metadata": {},
   "source": [
    "# Faculty Quality Analysis"
   ]
  },
  {
   "cell_type": "code",
   "execution_count": 22,
   "id": "14e657ee",
   "metadata": {},
   "outputs": [
    {
     "name": "stdout",
     "output_type": "stream",
     "text": [
      "Sector\n",
      "Private    1.186755\n",
      "Public     0.981447\n",
      "Name: Rating, dtype: float64\n"
     ]
    }
   ],
   "source": [
    "Faculty_sector_performance = data_set.groupby('Sector')['Rating'].mean().sort_values(ascending=False)\n",
    "print(Faculty_sector_performance)"
   ]
  },
  {
   "cell_type": "code",
   "execution_count": 23,
   "id": "944ddcc2",
   "metadata": {},
   "outputs": [
    {
     "data": {
      "image/png": "[encoded data removed]",
      "text/plain": [
       "<Figure size 640x480 with 1 Axes>"
      ]
     },
     "metadata": {},
     "output_type": "display_data"
    }
   ],
   "source": [
    "Faculty_sector_performance.plot(kind='bar', title='Average Rating by Sector')\n",
    "plt.ylabel('Average Rating')\n",
    "plt.show()"
   ]
  },
  {
   "cell_type": "code",
   "execution_count": 24,
   "id": "b301904e",
   "metadata": {},
   "outputs": [
    {
     "data": {
      "text/html": [
       "<div>\n",
       "<style scoped>\n",
       "    .dataframe tbody tr th:only-of-type {\n",
       "        vertical-align: middle;\n",
       "    }\n",
       "\n",
       "    .dataframe tbody tr th {\n",
       "        vertical-align: top;\n",
       "    }\n",
       "\n",
       "    .dataframe thead th {\n",
       "        text-align: right;\n",
       "    }\n",
       "</style>\n",
       "<table border=\"1\" class=\"dataframe\">\n",
       "  <thead>\n",
       "    <tr style=\"text-align: right;\">\n",
       "      <th></th>\n",
       "      <th>Name</th>\n",
       "      <th>Location</th>\n",
       "      <th>Study Program</th>\n",
       "      <th>Sector</th>\n",
       "      <th>Rating</th>\n",
       "      <th>City</th>\n",
       "    </tr>\n",
       "  </thead>\n",
       "  <tbody>\n",
       "    <tr>\n",
       "      <th>0</th>\n",
       "      <td>Campus.pk Lahore</td>\n",
       "      <td>Office 206, 2nd Floor Siddique Trade Center Ma...</td>\n",
       "      <td>FSc Pre Engineering Fsc Pre Medical</td>\n",
       "      <td>Private</td>\n",
       "      <td>0.0</td>\n",
       "      <td>Lahore</td>\n",
       "    </tr>\n",
       "    <tr>\n",
       "      <th>1</th>\n",
       "      <td>Allama Iqbal Open University Aiou Islamabad</td>\n",
       "      <td>Sector H-8, Islamabad-44000</td>\n",
       "      <td>FSc Pre Engineering ICs Computer Science FSc P...</td>\n",
       "      <td>Public</td>\n",
       "      <td>5.0</td>\n",
       "      <td>Islamabad</td>\n",
       "    </tr>\n",
       "    <tr>\n",
       "      <th>2</th>\n",
       "      <td>Government College University Gcu Lahore</td>\n",
       "      <td>GC University, Katchery Road Lahore 54000</td>\n",
       "      <td>FSc Pre Engineering ICS Computer Science FSc P...</td>\n",
       "      <td>Public</td>\n",
       "      <td>4.0</td>\n",
       "      <td>Lahore</td>\n",
       "    </tr>\n",
       "    <tr>\n",
       "      <th>3</th>\n",
       "      <td>Govt College University GCU Faisalabad</td>\n",
       "      <td>Kotwali Rd, Faisalabad 38000</td>\n",
       "      <td>FSc Pre-Engineering ICS FSc Pre-Medical Icom F...</td>\n",
       "      <td>Public</td>\n",
       "      <td>3.0</td>\n",
       "      <td>Unknown</td>\n",
       "    </tr>\n",
       "    <tr>\n",
       "      <th>4</th>\n",
       "      <td>Lahore College For Women University (Lcwu) Lahore</td>\n",
       "      <td>Near Wapda Flats, Jail Road, Lahore</td>\n",
       "      <td>FA Arts FSc Pre Engineering ICS Physics ICS St...</td>\n",
       "      <td>Public</td>\n",
       "      <td>5.0</td>\n",
       "      <td>Lahore</td>\n",
       "    </tr>\n",
       "  </tbody>\n",
       "</table>\n",
       "</div>"
      ],
      "text/plain": [
       "                                                Name  \\\n",
       "0                                   Campus.pk Lahore   \n",
       "1        Allama Iqbal Open University Aiou Islamabad   \n",
       "2           Government College University Gcu Lahore   \n",
       "3             Govt College University GCU Faisalabad   \n",
       "4  Lahore College For Women University (Lcwu) Lahore   \n",
       "\n",
       "                                            Location  \\\n",
       "0  Office 206, 2nd Floor Siddique Trade Center Ma...   \n",
       "1                        Sector H-8, Islamabad-44000   \n",
       "2          GC University, Katchery Road Lahore 54000   \n",
       "3                       Kotwali Rd, Faisalabad 38000   \n",
       "4                Near Wapda Flats, Jail Road, Lahore   \n",
       "\n",
       "                                       Study Program   Sector  Rating  \\\n",
       "0                FSc Pre Engineering Fsc Pre Medical  Private     0.0   \n",
       "1  FSc Pre Engineering ICs Computer Science FSc P...   Public     5.0   \n",
       "2  FSc Pre Engineering ICS Computer Science FSc P...   Public     4.0   \n",
       "3  FSc Pre-Engineering ICS FSc Pre-Medical Icom F...   Public     3.0   \n",
       "4  FA Arts FSc Pre Engineering ICS Physics ICS St...   Public     5.0   \n",
       "\n",
       "        City  \n",
       "0     Lahore  \n",
       "1  Islamabad  \n",
       "2     Lahore  \n",
       "3    Unknown  \n",
       "4     Lahore  "
      ]
     },
     "execution_count": 24,
     "metadata": {},
     "output_type": "execute_result"
    }
   ],
   "source": [
    "data_set.head()"
   ]
  },
  {
   "cell_type": "markdown",
   "id": "61cf4ffc",
   "metadata": {},
   "source": [
    "# Regional Disparity Analysis"
   ]
  },
  {
   "cell_type": "code",
   "execution_count": 28,
   "id": "a669e2bb",
   "metadata": {},
   "outputs": [
    {
     "data": {
      "text/plain": [
       "Text(0, 0.5, 'Average Rating')"
      ]
     },
     "execution_count": 28,
     "metadata": {},
     "output_type": "execute_result"
    },
    {
     "data": {
      "image/png": "[encoded data removed]",
      "text/plain": [
       "<Figure size 640x480 with 1 Axes>"
      ]
     },
     "metadata": {},
     "output_type": "display_data"
    }
   ],
   "source": [
    "#Compare average ratings by city\n",
    "\n",
    "city_comparison = data_set.groupby('City')['Rating'].mean().sort_values(ascending=False)\n",
    "city_comparison.plot(kind='bar', title='Average Rating by City')\n",
    "plt.ylabel('Average Rating')\n"
   ]
  },
  {
   "cell_type": "code",
   "execution_count": 29,
   "id": "de0f1710",
   "metadata": {},
   "outputs": [],
   "source": [
    "#analyze sector distribution in Low-Performing regions:\n",
    "\n",
    "low_performance_regions = data_set[data_set['City'].isin(['Dargai', 'Dina'])]"
   ]
  },
  {
   "cell_type": "code",
   "execution_count": 30,
   "id": "7aa095df",
   "metadata": {},
   "outputs": [
    {
     "name": "stdout",
     "output_type": "stream",
     "text": [
      "Sector   Private    Public\n",
      "City                      \n",
      "Dargai  0.600000  0.400000\n",
      "Dina    0.636364  0.363636\n"
     ]
    }
   ],
   "source": [
    "sector_distribution = low_performance_regions.groupby('City')['Sector'].value_counts(normalize=True).unstack()\n",
    "print(sector_distribution)"
   ]
  },
  {
   "cell_type": "code",
   "execution_count": 31,
   "id": "282687a5",
   "metadata": {},
   "outputs": [
    {
     "data": {
      "image/png": "[encoded data removed]",
      "text/plain": [
       "<Figure size 640x480 with 1 Axes>"
      ]
     },
     "metadata": {},
     "output_type": "display_data"
    }
   ],
   "source": [
    "sector_distribution.plot(kind='bar', title='Sector Distribution in Low-Performing regions')\n",
    "plt.ylabel('Sector')\n",
    "plt.show()"
   ]
  },
  {
   "cell_type": "code",
   "execution_count": null,
   "id": "3deda029",
   "metadata": {},
   "outputs": [],
   "source": []
  }
 ],
 "metadata": {
  "kernelspec": {
   "display_name": "Python 3 (ipykernel)",
   "language": "python",
   "name": "python3"
  },
  "language_info": {
   "codemirror_mode": {
    "name": "ipython",
    "version": 3
   },
   "file_extension": ".py",
   "mimetype": "text/x-python",
   "name": "python",
   "nbconvert_exporter": "python",
   "pygments_lexer": "ipython3",
   "version": "3.11.5"
  }
 },
 "nbformat": 4,
 "nbformat_minor": 5
}
